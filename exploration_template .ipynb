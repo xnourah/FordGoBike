{
 "cells": [
  {
   "cell_type": "markdown",
   "metadata": {},
   "source": [
    "# (Bay Wheels System Data Analzing)\n",
    "## by (Nourh Almutairi)\n",
    "\n",
    "## Preliminary Wrangling\n",
    "\n",
    "> Bay Wheels is a regional public bicycle sharing system in California's San Francisco Bay Area.Bay Wheels is the first regional and large-scale bicycle sharing system deployed in California and on the West Coast of the United States.\n",
    "The system is expected to expand to 7,000 bicycles around 540 stations in San Francisco, Oakland, Berkeley, Emeryville, and San Jose.\n",
    "> in this project i focus on the first three months of 2020.(January,February, March) and trying to find answrs for some questions.\n",
    "\n"
   ]
  },
  {
   "cell_type": "code",
   "execution_count": 1,
   "metadata": {},
   "outputs": [],
   "source": [
    "# import all packages and set plots to be embedded inline\n",
    "import numpy as np\n",
    "import pandas as pd\n",
    "import matplotlib.pyplot as plt\n",
    "import seaborn as sb\n",
    "\n",
    "%matplotlib inline"
   ]
  },
  {
   "cell_type": "markdown",
   "metadata": {},
   "source": [
    "## Preparing Data\n",
    "> there are three csv files for first quarter of 2020 i will combine them into one csv file."
   ]
  },
  {
   "cell_type": "code",
   "execution_count": 2,
   "metadata": {},
   "outputs": [
    {
     "name": "stderr",
     "output_type": "stream",
     "text": [
      "C:\\Users\\noura\\anaconda3\\lib\\site-packages\\IPython\\core\\interactiveshell.py:3063: DtypeWarning: Columns (13) have mixed types.Specify dtype option on import or set low_memory=False.\n",
      "  interactivity=interactivity, compiler=compiler, result=result)\n"
     ]
    }
   ],
   "source": [
    "#read files\n",
    "jan = pd.read_csv('202001-baywheels-tripdata.csv')\n",
    "feb = pd.read_csv('202002-baywheels-tripdata.csv')\n",
    "march = pd.read_csv('202003-baywheels-tripdata.csv')"
   ]
  },
  {
   "cell_type": "code",
   "execution_count": 3,
   "metadata": {},
   "outputs": [],
   "source": [
    "#combining\n",
    "BWdata = pd.concat([jan,feb,march])\n",
    "#store file\n",
    "BWdata.to_csv('BWdata.csv')"
   ]
  },
  {
   "cell_type": "markdown",
   "metadata": {},
   "source": [
    "### What is the structure of your dataset?\n",
    "\n",
    "* Trip Duration (seconds)\n",
    "* Start Time and Date\n",
    "* End Time and Date\n",
    "* Start Station ID\n",
    "* Start Station Name\n",
    "* Start Station Latitude\n",
    "* Start Station Longitude\n",
    "* End Station ID\n",
    "* End Station Name\n",
    "* End Station Latitude\n",
    "* End Station Longitude\n",
    "* Bike ID\n",
    "* User Type (Subscriber or Customer – “Subscriber” = Member or “Customer” = Casual)\n",
    "\n",
    "### What is/are the main feature(s) of interest in your dataset?\n",
    "\n",
    "> Trip Duration , User Type , Start Station Name,End Station Name\n",
    "\n",
    "### What features in the dataset do you think will help support your investigation into your feature(s) of interest?\n",
    "\n",
    "> Bike ID ,  Start Time and Date , End Time and Date"
   ]
  },
  {
   "cell_type": "markdown",
   "metadata": {},
   "source": [
    "## Assessing Data"
   ]
  },
  {
   "cell_type": "markdown",
   "metadata": {},
   "source": [
    ">assess data visually and programmatically"
   ]
  },
  {
   "cell_type": "code",
   "execution_count": 4,
   "metadata": {},
   "outputs": [
    {
     "data": {
      "text/html": [
       "<div>\n",
       "<style scoped>\n",
       "    .dataframe tbody tr th:only-of-type {\n",
       "        vertical-align: middle;\n",
       "    }\n",
       "\n",
       "    .dataframe tbody tr th {\n",
       "        vertical-align: top;\n",
       "    }\n",
       "\n",
       "    .dataframe thead th {\n",
       "        text-align: right;\n",
       "    }\n",
       "</style>\n",
       "<table border=\"1\" class=\"dataframe\">\n",
       "  <thead>\n",
       "    <tr style=\"text-align: right;\">\n",
       "      <th></th>\n",
       "      <th>duration_sec</th>\n",
       "      <th>start_time</th>\n",
       "      <th>end_time</th>\n",
       "      <th>start_station_id</th>\n",
       "      <th>start_station_name</th>\n",
       "      <th>start_station_latitude</th>\n",
       "      <th>start_station_longitude</th>\n",
       "      <th>end_station_id</th>\n",
       "      <th>end_station_name</th>\n",
       "      <th>end_station_latitude</th>\n",
       "      <th>end_station_longitude</th>\n",
       "      <th>bike_id</th>\n",
       "      <th>user_type</th>\n",
       "      <th>rental_access_method</th>\n",
       "    </tr>\n",
       "  </thead>\n",
       "  <tbody>\n",
       "    <tr>\n",
       "      <th>0</th>\n",
       "      <td>83118</td>\n",
       "      <td>2020-01-31 15:23:47.7330</td>\n",
       "      <td>2020-02-01 14:29:06.2630</td>\n",
       "      <td>400.0</td>\n",
       "      <td>Buchanan St at North Point St</td>\n",
       "      <td>37.804272</td>\n",
       "      <td>-122.433537</td>\n",
       "      <td>400.0</td>\n",
       "      <td>Buchanan St at North Point St</td>\n",
       "      <td>37.804272</td>\n",
       "      <td>-122.433537</td>\n",
       "      <td>13052</td>\n",
       "      <td>Customer</td>\n",
       "      <td>NaN</td>\n",
       "    </tr>\n",
       "    <tr>\n",
       "      <th>1</th>\n",
       "      <td>68239</td>\n",
       "      <td>2020-01-31 15:40:31.6160</td>\n",
       "      <td>2020-02-01 10:37:51.0000</td>\n",
       "      <td>99.0</td>\n",
       "      <td>Folsom St at 15th St</td>\n",
       "      <td>37.767037</td>\n",
       "      <td>-122.415443</td>\n",
       "      <td>99.0</td>\n",
       "      <td>Folsom St at 15th St</td>\n",
       "      <td>37.767037</td>\n",
       "      <td>-122.415443</td>\n",
       "      <td>12235</td>\n",
       "      <td>Subscriber</td>\n",
       "      <td>NaN</td>\n",
       "    </tr>\n",
       "    <tr>\n",
       "      <th>2</th>\n",
       "      <td>55407</td>\n",
       "      <td>2020-01-31 17:48:16.6350</td>\n",
       "      <td>2020-02-01 09:11:44.3170</td>\n",
       "      <td>197.0</td>\n",
       "      <td>El Embarcadero at Grand Ave</td>\n",
       "      <td>37.808848</td>\n",
       "      <td>-122.249680</td>\n",
       "      <td>197.0</td>\n",
       "      <td>El Embarcadero at Grand Ave</td>\n",
       "      <td>37.808848</td>\n",
       "      <td>-122.249680</td>\n",
       "      <td>12822</td>\n",
       "      <td>Customer</td>\n",
       "      <td>NaN</td>\n",
       "    </tr>\n",
       "    <tr>\n",
       "      <th>3</th>\n",
       "      <td>54929</td>\n",
       "      <td>2020-01-31 17:53:03.4130</td>\n",
       "      <td>2020-02-01 09:08:32.6340</td>\n",
       "      <td>197.0</td>\n",
       "      <td>El Embarcadero at Grand Ave</td>\n",
       "      <td>37.808848</td>\n",
       "      <td>-122.249680</td>\n",
       "      <td>197.0</td>\n",
       "      <td>El Embarcadero at Grand Ave</td>\n",
       "      <td>37.808848</td>\n",
       "      <td>-122.249680</td>\n",
       "      <td>11705</td>\n",
       "      <td>Customer</td>\n",
       "      <td>NaN</td>\n",
       "    </tr>\n",
       "    <tr>\n",
       "      <th>4</th>\n",
       "      <td>55700</td>\n",
       "      <td>2020-01-31 17:12:33.4600</td>\n",
       "      <td>2020-02-01 08:40:53.6460</td>\n",
       "      <td>12.0</td>\n",
       "      <td>Pier 1/2 at The Embarcadero</td>\n",
       "      <td>37.796389</td>\n",
       "      <td>-122.394586</td>\n",
       "      <td>371.0</td>\n",
       "      <td>Lombard St at Columbus Ave</td>\n",
       "      <td>37.802746</td>\n",
       "      <td>-122.413579</td>\n",
       "      <td>3673</td>\n",
       "      <td>Customer</td>\n",
       "      <td>NaN</td>\n",
       "    </tr>\n",
       "  </tbody>\n",
       "</table>\n",
       "</div>"
      ],
      "text/plain": [
       "   duration_sec                start_time                  end_time  \\\n",
       "0         83118  2020-01-31 15:23:47.7330  2020-02-01 14:29:06.2630   \n",
       "1         68239  2020-01-31 15:40:31.6160  2020-02-01 10:37:51.0000   \n",
       "2         55407  2020-01-31 17:48:16.6350  2020-02-01 09:11:44.3170   \n",
       "3         54929  2020-01-31 17:53:03.4130  2020-02-01 09:08:32.6340   \n",
       "4         55700  2020-01-31 17:12:33.4600  2020-02-01 08:40:53.6460   \n",
       "\n",
       "   start_station_id             start_station_name  start_station_latitude  \\\n",
       "0             400.0  Buchanan St at North Point St               37.804272   \n",
       "1              99.0           Folsom St at 15th St               37.767037   \n",
       "2             197.0    El Embarcadero at Grand Ave               37.808848   \n",
       "3             197.0    El Embarcadero at Grand Ave               37.808848   \n",
       "4              12.0    Pier 1/2 at The Embarcadero               37.796389   \n",
       "\n",
       "   start_station_longitude  end_station_id               end_station_name  \\\n",
       "0              -122.433537           400.0  Buchanan St at North Point St   \n",
       "1              -122.415443            99.0           Folsom St at 15th St   \n",
       "2              -122.249680           197.0    El Embarcadero at Grand Ave   \n",
       "3              -122.249680           197.0    El Embarcadero at Grand Ave   \n",
       "4              -122.394586           371.0     Lombard St at Columbus Ave   \n",
       "\n",
       "   end_station_latitude  end_station_longitude  bike_id   user_type  \\\n",
       "0             37.804272            -122.433537    13052    Customer   \n",
       "1             37.767037            -122.415443    12235  Subscriber   \n",
       "2             37.808848            -122.249680    12822    Customer   \n",
       "3             37.808848            -122.249680    11705    Customer   \n",
       "4             37.802746            -122.413579     3673    Customer   \n",
       "\n",
       "  rental_access_method  \n",
       "0                  NaN  \n",
       "1                  NaN  \n",
       "2                  NaN  \n",
       "3                  NaN  \n",
       "4                  NaN  "
      ]
     },
     "execution_count": 4,
     "metadata": {},
     "output_type": "execute_result"
    }
   ],
   "source": [
    "BWdata.head()"
   ]
  },
  {
   "cell_type": "code",
   "execution_count": 5,
   "metadata": {
    "scrolled": true
   },
   "outputs": [
    {
     "name": "stdout",
     "output_type": "stream",
     "text": [
      "<class 'pandas.core.frame.DataFrame'>\n",
      "Int64Index: 905007 entries, 0 to 176798\n",
      "Data columns (total 14 columns):\n",
      " #   Column                   Non-Null Count   Dtype  \n",
      "---  ------                   --------------   -----  \n",
      " 0   duration_sec             905007 non-null  int64  \n",
      " 1   start_time               905007 non-null  object \n",
      " 2   end_time                 905007 non-null  object \n",
      " 3   start_station_id         418705 non-null  float64\n",
      " 4   start_station_name       419938 non-null  object \n",
      " 5   start_station_latitude   905007 non-null  float64\n",
      " 6   start_station_longitude  905007 non-null  float64\n",
      " 7   end_station_id           419225 non-null  float64\n",
      " 8   end_station_name         420499 non-null  object \n",
      " 9   end_station_latitude     905007 non-null  float64\n",
      " 10  end_station_longitude    905007 non-null  float64\n",
      " 11  bike_id                  905007 non-null  int64  \n",
      " 12  user_type                905007 non-null  object \n",
      " 13  rental_access_method     617858 non-null  object \n",
      "dtypes: float64(6), int64(2), object(6)\n",
      "memory usage: 103.6+ MB\n"
     ]
    }
   ],
   "source": [
    "BWdata.info()"
   ]
  },
  {
   "cell_type": "code",
   "execution_count": 6,
   "metadata": {},
   "outputs": [
    {
     "data": {
      "text/plain": [
       "array([nan, 'app', 'clipper'], dtype=object)"
      ]
     },
     "execution_count": 6,
     "metadata": {},
     "output_type": "execute_result"
    }
   ],
   "source": [
    "BWdata['rental_access_method'].unique()"
   ]
  },
  {
   "cell_type": "code",
   "execution_count": 7,
   "metadata": {},
   "outputs": [
    {
     "data": {
      "text/plain": [
       "array(['Customer', 'Subscriber'], dtype=object)"
      ]
     },
     "execution_count": 7,
     "metadata": {},
     "output_type": "execute_result"
    }
   ],
   "source": [
    "BWdata['user_type'].unique()"
   ]
  },
  {
   "cell_type": "code",
   "execution_count": 8,
   "metadata": {},
   "outputs": [
    {
     "data": {
      "text/plain": [
       "duration_sec                    0\n",
       "start_time                      0\n",
       "end_time                        0\n",
       "start_station_id           486302\n",
       "start_station_name         485069\n",
       "start_station_latitude          0\n",
       "start_station_longitude         0\n",
       "end_station_id             485782\n",
       "end_station_name           484508\n",
       "end_station_latitude            0\n",
       "end_station_longitude           0\n",
       "bike_id                         0\n",
       "user_type                       0\n",
       "rental_access_method       287149\n",
       "dtype: int64"
      ]
     },
     "execution_count": 8,
     "metadata": {},
     "output_type": "execute_result"
    }
   ],
   "source": [
    "BWdata.isnull().sum(axis = 0)"
   ]
  },
  {
   "cell_type": "markdown",
   "metadata": {},
   "source": [
    "> What to do:\n",
    "* all id's should be string.\n",
    "* end & start time should be datetime type then seperate each column to 2 columns date and time.\n",
    "* latitude & longitude i will not use them.\n",
    "* duration_sec will covnerted to time and change column name.\n",
    "* delete null values\n",
    "* creat week day and month column"
   ]
  },
  {
   "cell_type": "markdown",
   "metadata": {},
   "source": [
    "## Cleaning"
   ]
  },
  {
   "cell_type": "markdown",
   "metadata": {},
   "source": [
    "### null values cleaning"
   ]
  },
  {
   "cell_type": "code",
   "execution_count": 9,
   "metadata": {},
   "outputs": [],
   "source": [
    "BWdata_clean = BWdata.copy()"
   ]
  },
  {
   "cell_type": "code",
   "execution_count": 10,
   "metadata": {},
   "outputs": [],
   "source": [
    "#remove all rows with null values\n",
    "BWdata_clean = BWdata_clean.dropna(how='any',axis=0) "
   ]
  },
  {
   "cell_type": "code",
   "execution_count": 11,
   "metadata": {},
   "outputs": [
    {
     "data": {
      "text/plain": [
       "duration_sec               0\n",
       "start_time                 0\n",
       "end_time                   0\n",
       "start_station_id           0\n",
       "start_station_name         0\n",
       "start_station_latitude     0\n",
       "start_station_longitude    0\n",
       "end_station_id             0\n",
       "end_station_name           0\n",
       "end_station_latitude       0\n",
       "end_station_longitude      0\n",
       "bike_id                    0\n",
       "user_type                  0\n",
       "rental_access_method       0\n",
       "dtype: int64"
      ]
     },
     "execution_count": 11,
     "metadata": {},
     "output_type": "execute_result"
    }
   ],
   "source": [
    "#test\n",
    "BWdata_clean.isnull().sum(axis = 0)"
   ]
  },
  {
   "cell_type": "markdown",
   "metadata": {},
   "source": [
    "### Start_time & end_time cleaning"
   ]
  },
  {
   "cell_type": "code",
   "execution_count": 12,
   "metadata": {},
   "outputs": [
    {
     "name": "stdout",
     "output_type": "stream",
     "text": [
      "<class 'pandas.core.frame.DataFrame'>\n",
      "Int64Index: 58300 entries, 110669 to 174729\n",
      "Data columns (total 14 columns):\n",
      " #   Column                   Non-Null Count  Dtype         \n",
      "---  ------                   --------------  -----         \n",
      " 0   duration_sec             58300 non-null  int64         \n",
      " 1   start_time               58300 non-null  datetime64[ns]\n",
      " 2   end_time                 58300 non-null  datetime64[ns]\n",
      " 3   start_station_id         58300 non-null  float64       \n",
      " 4   start_station_name       58300 non-null  object        \n",
      " 5   start_station_latitude   58300 non-null  float64       \n",
      " 6   start_station_longitude  58300 non-null  float64       \n",
      " 7   end_station_id           58300 non-null  float64       \n",
      " 8   end_station_name         58300 non-null  object        \n",
      " 9   end_station_latitude     58300 non-null  float64       \n",
      " 10  end_station_longitude    58300 non-null  float64       \n",
      " 11  bike_id                  58300 non-null  int64         \n",
      " 12  user_type                58300 non-null  object        \n",
      " 13  rental_access_method     58300 non-null  object        \n",
      "dtypes: datetime64[ns](2), float64(6), int64(2), object(4)\n",
      "memory usage: 6.7+ MB\n"
     ]
    }
   ],
   "source": [
    "#Convert start time and end time to datetime type\n",
    "BWdata_clean['start_time'] = pd.to_datetime(BWdata_clean['start_time'])\n",
    "BWdata_clean['end_time'] = pd.to_datetime(BWdata_clean['end_time'])\n",
    "#test\n",
    "BWdata_clean.info()"
   ]
  },
  {
   "cell_type": "code",
   "execution_count": 13,
   "metadata": {},
   "outputs": [],
   "source": [
    "#seperate start time to 2 column start time and start date\n",
    "BWdata_clean['start_date'] = BWdata_clean['start_time'].apply(lambda time: time.strftime('%m-%d-%Y'))\n",
    "#BWdata_clean['start_time'] = BWdata_clean['start_time'].apply(lambda time: time.strftime('%H:%M'))\n",
    "BWdata_clean['start_time_hour'] = BWdata_clean['start_time'].dt.hour"
   ]
  },
  {
   "cell_type": "code",
   "execution_count": 14,
   "metadata": {},
   "outputs": [],
   "source": [
    "#seperate end_time to 2 column end time and end date\n",
    "BWdata_clean['end_date'] = BWdata_clean['end_time'].apply(lambda time: time.strftime('%m-%d-%Y'))\n",
    "#BWdata_clean['end_time'] = BWdata_clean['end_time'].apply(lambda time: time.strftime('%H:%M'))\n",
    "BWdata_clean['end_time_hour'] = BWdata_clean['end_time'].dt.hour"
   ]
  },
  {
   "cell_type": "code",
   "execution_count": 15,
   "metadata": {},
   "outputs": [],
   "source": [
    "# convert types \n",
    "BWdata_clean['end_date'] = pd.to_datetime(BWdata_clean['end_date'])\n",
    "BWdata_clean['start_date'] = pd.to_datetime(BWdata_clean['start_date'])"
   ]
  },
  {
   "cell_type": "code",
   "execution_count": 16,
   "metadata": {},
   "outputs": [],
   "source": [
    "BWdata_clean.drop(['start_time', 'end_time'], axis=1, inplace=True)"
   ]
  },
  {
   "cell_type": "code",
   "execution_count": 17,
   "metadata": {
    "scrolled": true
   },
   "outputs": [
    {
     "data": {
      "text/html": [
       "<div>\n",
       "<style scoped>\n",
       "    .dataframe tbody tr th:only-of-type {\n",
       "        vertical-align: middle;\n",
       "    }\n",
       "\n",
       "    .dataframe tbody tr th {\n",
       "        vertical-align: top;\n",
       "    }\n",
       "\n",
       "    .dataframe thead th {\n",
       "        text-align: right;\n",
       "    }\n",
       "</style>\n",
       "<table border=\"1\" class=\"dataframe\">\n",
       "  <thead>\n",
       "    <tr style=\"text-align: right;\">\n",
       "      <th></th>\n",
       "      <th>duration_sec</th>\n",
       "      <th>start_station_id</th>\n",
       "      <th>start_station_name</th>\n",
       "      <th>start_station_latitude</th>\n",
       "      <th>start_station_longitude</th>\n",
       "      <th>end_station_id</th>\n",
       "      <th>end_station_name</th>\n",
       "      <th>end_station_latitude</th>\n",
       "      <th>end_station_longitude</th>\n",
       "      <th>bike_id</th>\n",
       "      <th>user_type</th>\n",
       "      <th>rental_access_method</th>\n",
       "      <th>start_date</th>\n",
       "      <th>start_time_hour</th>\n",
       "      <th>end_date</th>\n",
       "      <th>end_time_hour</th>\n",
       "    </tr>\n",
       "  </thead>\n",
       "  <tbody>\n",
       "    <tr>\n",
       "      <th>110669</th>\n",
       "      <td>1688</td>\n",
       "      <td>473.0</td>\n",
       "      <td>Willow St at Blewett Ave</td>\n",
       "      <td>37.309014</td>\n",
       "      <td>-121.900011</td>\n",
       "      <td>425.0</td>\n",
       "      <td>Bird Ave at Willow St</td>\n",
       "      <td>37.311284</td>\n",
       "      <td>-121.896325</td>\n",
       "      <td>605133</td>\n",
       "      <td>Subscriber</td>\n",
       "      <td>app</td>\n",
       "      <td>2020-01-19</td>\n",
       "      <td>11</td>\n",
       "      <td>2020-01-19</td>\n",
       "      <td>12</td>\n",
       "    </tr>\n",
       "    <tr>\n",
       "      <th>110671</th>\n",
       "      <td>274</td>\n",
       "      <td>473.0</td>\n",
       "      <td>Willow St at Blewett Ave</td>\n",
       "      <td>37.309014</td>\n",
       "      <td>-121.900011</td>\n",
       "      <td>415.0</td>\n",
       "      <td>Delmas Ave at Virginia St</td>\n",
       "      <td>37.319757</td>\n",
       "      <td>-121.892999</td>\n",
       "      <td>885034</td>\n",
       "      <td>Subscriber</td>\n",
       "      <td>app</td>\n",
       "      <td>2020-01-20</td>\n",
       "      <td>19</td>\n",
       "      <td>2020-01-20</td>\n",
       "      <td>19</td>\n",
       "    </tr>\n",
       "    <tr>\n",
       "      <th>110674</th>\n",
       "      <td>1671</td>\n",
       "      <td>473.0</td>\n",
       "      <td>Willow St at Blewett Ave</td>\n",
       "      <td>37.309014</td>\n",
       "      <td>-121.900011</td>\n",
       "      <td>425.0</td>\n",
       "      <td>Bird Ave at Willow St</td>\n",
       "      <td>37.311284</td>\n",
       "      <td>-121.896325</td>\n",
       "      <td>533517</td>\n",
       "      <td>Subscriber</td>\n",
       "      <td>app</td>\n",
       "      <td>2020-01-19</td>\n",
       "      <td>11</td>\n",
       "      <td>2020-01-19</td>\n",
       "      <td>12</td>\n",
       "    </tr>\n",
       "    <tr>\n",
       "      <th>110675</th>\n",
       "      <td>283</td>\n",
       "      <td>473.0</td>\n",
       "      <td>Willow St at Blewett Ave</td>\n",
       "      <td>37.309014</td>\n",
       "      <td>-121.900011</td>\n",
       "      <td>415.0</td>\n",
       "      <td>Delmas Ave at Virginia St</td>\n",
       "      <td>37.319757</td>\n",
       "      <td>-121.892999</td>\n",
       "      <td>885034</td>\n",
       "      <td>Subscriber</td>\n",
       "      <td>app</td>\n",
       "      <td>2020-01-18</td>\n",
       "      <td>19</td>\n",
       "      <td>2020-01-18</td>\n",
       "      <td>20</td>\n",
       "    </tr>\n",
       "    <tr>\n",
       "      <th>110680</th>\n",
       "      <td>1004</td>\n",
       "      <td>473.0</td>\n",
       "      <td>Willow St at Blewett Ave</td>\n",
       "      <td>37.309014</td>\n",
       "      <td>-121.900011</td>\n",
       "      <td>443.0</td>\n",
       "      <td>3rd St at Keyes St</td>\n",
       "      <td>37.320866</td>\n",
       "      <td>-121.876279</td>\n",
       "      <td>342421</td>\n",
       "      <td>Subscriber</td>\n",
       "      <td>app</td>\n",
       "      <td>2020-01-19</td>\n",
       "      <td>15</td>\n",
       "      <td>2020-01-19</td>\n",
       "      <td>15</td>\n",
       "    </tr>\n",
       "  </tbody>\n",
       "</table>\n",
       "</div>"
      ],
      "text/plain": [
       "        duration_sec  start_station_id        start_station_name  \\\n",
       "110669          1688             473.0  Willow St at Blewett Ave   \n",
       "110671           274             473.0  Willow St at Blewett Ave   \n",
       "110674          1671             473.0  Willow St at Blewett Ave   \n",
       "110675           283             473.0  Willow St at Blewett Ave   \n",
       "110680          1004             473.0  Willow St at Blewett Ave   \n",
       "\n",
       "        start_station_latitude  start_station_longitude  end_station_id  \\\n",
       "110669               37.309014              -121.900011           425.0   \n",
       "110671               37.309014              -121.900011           415.0   \n",
       "110674               37.309014              -121.900011           425.0   \n",
       "110675               37.309014              -121.900011           415.0   \n",
       "110680               37.309014              -121.900011           443.0   \n",
       "\n",
       "                 end_station_name  end_station_latitude  \\\n",
       "110669      Bird Ave at Willow St             37.311284   \n",
       "110671  Delmas Ave at Virginia St             37.319757   \n",
       "110674      Bird Ave at Willow St             37.311284   \n",
       "110675  Delmas Ave at Virginia St             37.319757   \n",
       "110680         3rd St at Keyes St             37.320866   \n",
       "\n",
       "        end_station_longitude  bike_id   user_type rental_access_method  \\\n",
       "110669            -121.896325   605133  Subscriber                  app   \n",
       "110671            -121.892999   885034  Subscriber                  app   \n",
       "110674            -121.896325   533517  Subscriber                  app   \n",
       "110675            -121.892999   885034  Subscriber                  app   \n",
       "110680            -121.876279   342421  Subscriber                  app   \n",
       "\n",
       "       start_date  start_time_hour   end_date  end_time_hour  \n",
       "110669 2020-01-19               11 2020-01-19             12  \n",
       "110671 2020-01-20               19 2020-01-20             19  \n",
       "110674 2020-01-19               11 2020-01-19             12  \n",
       "110675 2020-01-18               19 2020-01-18             20  \n",
       "110680 2020-01-19               15 2020-01-19             15  "
      ]
     },
     "execution_count": 17,
     "metadata": {},
     "output_type": "execute_result"
    }
   ],
   "source": [
    "BWdata_clean.head()"
   ]
  },
  {
   "cell_type": "code",
   "execution_count": 18,
   "metadata": {},
   "outputs": [
    {
     "name": "stdout",
     "output_type": "stream",
     "text": [
      "<class 'pandas.core.frame.DataFrame'>\n",
      "Int64Index: 58300 entries, 110669 to 174729\n",
      "Data columns (total 16 columns):\n",
      " #   Column                   Non-Null Count  Dtype         \n",
      "---  ------                   --------------  -----         \n",
      " 0   duration_sec             58300 non-null  int64         \n",
      " 1   start_station_id         58300 non-null  float64       \n",
      " 2   start_station_name       58300 non-null  object        \n",
      " 3   start_station_latitude   58300 non-null  float64       \n",
      " 4   start_station_longitude  58300 non-null  float64       \n",
      " 5   end_station_id           58300 non-null  float64       \n",
      " 6   end_station_name         58300 non-null  object        \n",
      " 7   end_station_latitude     58300 non-null  float64       \n",
      " 8   end_station_longitude    58300 non-null  float64       \n",
      " 9   bike_id                  58300 non-null  int64         \n",
      " 10  user_type                58300 non-null  object        \n",
      " 11  rental_access_method     58300 non-null  object        \n",
      " 12  start_date               58300 non-null  datetime64[ns]\n",
      " 13  start_time_hour          58300 non-null  int64         \n",
      " 14  end_date                 58300 non-null  datetime64[ns]\n",
      " 15  end_time_hour            58300 non-null  int64         \n",
      "dtypes: datetime64[ns](2), float64(6), int64(4), object(4)\n",
      "memory usage: 7.6+ MB\n"
     ]
    }
   ],
   "source": [
    "BWdata_clean.info()"
   ]
  },
  {
   "cell_type": "markdown",
   "metadata": {},
   "source": [
    "### all id's cleaning"
   ]
  },
  {
   "cell_type": "code",
   "execution_count": 19,
   "metadata": {
    "scrolled": true
   },
   "outputs": [
    {
     "name": "stdout",
     "output_type": "stream",
     "text": [
      "<class 'pandas.core.frame.DataFrame'>\n",
      "Int64Index: 58300 entries, 110669 to 174729\n",
      "Data columns (total 16 columns):\n",
      " #   Column                   Non-Null Count  Dtype         \n",
      "---  ------                   --------------  -----         \n",
      " 0   duration_sec             58300 non-null  int64         \n",
      " 1   start_station_id         58300 non-null  object        \n",
      " 2   start_station_name       58300 non-null  object        \n",
      " 3   start_station_latitude   58300 non-null  float64       \n",
      " 4   start_station_longitude  58300 non-null  float64       \n",
      " 5   end_station_id           58300 non-null  object        \n",
      " 6   end_station_name         58300 non-null  object        \n",
      " 7   end_station_latitude     58300 non-null  float64       \n",
      " 8   end_station_longitude    58300 non-null  float64       \n",
      " 9   bike_id                  58300 non-null  object        \n",
      " 10  user_type                58300 non-null  object        \n",
      " 11  rental_access_method     58300 non-null  object        \n",
      " 12  start_date               58300 non-null  datetime64[ns]\n",
      " 13  start_time_hour          58300 non-null  int64         \n",
      " 14  end_date                 58300 non-null  datetime64[ns]\n",
      " 15  end_time_hour            58300 non-null  int64         \n",
      "dtypes: datetime64[ns](2), float64(4), int64(3), object(7)\n",
      "memory usage: 7.6+ MB\n"
     ]
    }
   ],
   "source": [
    "#convert id's to string\n",
    "BWdata_clean['start_station_id'] = BWdata_clean['start_station_id'].astype(str)\n",
    "BWdata_clean['end_station_id'] = BWdata_clean['end_station_id'].astype(str)\n",
    "BWdata_clean['bike_id'] = BWdata_clean['bike_id'].astype(str)\n",
    "#test\n",
    "BWdata_clean.info()"
   ]
  },
  {
   "cell_type": "markdown",
   "metadata": {},
   "source": [
    "### latitude & longitude cleaning"
   ]
  },
  {
   "cell_type": "code",
   "execution_count": 20,
   "metadata": {},
   "outputs": [],
   "source": [
    "#remove uneccary column\n",
    "BWdata_clean.drop(['start_station_latitude', 'start_station_longitude','end_station_latitude','end_station_longitude'], axis=1, inplace=True)"
   ]
  },
  {
   "cell_type": "code",
   "execution_count": 21,
   "metadata": {
    "scrolled": true
   },
   "outputs": [
    {
     "data": {
      "text/plain": [
       "Index(['duration_sec', 'start_station_id', 'start_station_name',\n",
       "       'end_station_id', 'end_station_name', 'bike_id', 'user_type',\n",
       "       'rental_access_method', 'start_date', 'start_time_hour', 'end_date',\n",
       "       'end_time_hour'],\n",
       "      dtype='object')"
      ]
     },
     "execution_count": 21,
     "metadata": {},
     "output_type": "execute_result"
    }
   ],
   "source": [
    "#test\n",
    "BWdata_clean.columns"
   ]
  },
  {
   "cell_type": "markdown",
   "metadata": {},
   "source": [
    "### duration_sec cleaning"
   ]
  },
  {
   "cell_type": "code",
   "execution_count": 22,
   "metadata": {},
   "outputs": [],
   "source": [
    "# convert duration_sec to datetime\n",
    "BWdata_clean['duration_time'] = BWdata_clean['duration_sec'].astype('float64') \n",
    "BWdata_clean['duration_time'] = pd.to_datetime(BWdata_clean[\"duration_time\"], unit='s').dt.strftime(\"%H:%M:%S\")"
   ]
  },
  {
   "cell_type": "code",
   "execution_count": 23,
   "metadata": {
    "scrolled": true
   },
   "outputs": [
    {
     "data": {
      "text/html": [
       "<div>\n",
       "<style scoped>\n",
       "    .dataframe tbody tr th:only-of-type {\n",
       "        vertical-align: middle;\n",
       "    }\n",
       "\n",
       "    .dataframe tbody tr th {\n",
       "        vertical-align: top;\n",
       "    }\n",
       "\n",
       "    .dataframe thead th {\n",
       "        text-align: right;\n",
       "    }\n",
       "</style>\n",
       "<table border=\"1\" class=\"dataframe\">\n",
       "  <thead>\n",
       "    <tr style=\"text-align: right;\">\n",
       "      <th></th>\n",
       "      <th>duration_sec</th>\n",
       "      <th>start_station_id</th>\n",
       "      <th>start_station_name</th>\n",
       "      <th>end_station_id</th>\n",
       "      <th>end_station_name</th>\n",
       "      <th>bike_id</th>\n",
       "      <th>user_type</th>\n",
       "      <th>rental_access_method</th>\n",
       "      <th>start_date</th>\n",
       "      <th>start_time_hour</th>\n",
       "      <th>end_date</th>\n",
       "      <th>end_time_hour</th>\n",
       "      <th>duration_time</th>\n",
       "    </tr>\n",
       "  </thead>\n",
       "  <tbody>\n",
       "    <tr>\n",
       "      <th>110669</th>\n",
       "      <td>1688</td>\n",
       "      <td>473.0</td>\n",
       "      <td>Willow St at Blewett Ave</td>\n",
       "      <td>425.0</td>\n",
       "      <td>Bird Ave at Willow St</td>\n",
       "      <td>605133</td>\n",
       "      <td>Subscriber</td>\n",
       "      <td>app</td>\n",
       "      <td>2020-01-19</td>\n",
       "      <td>11</td>\n",
       "      <td>2020-01-19</td>\n",
       "      <td>12</td>\n",
       "      <td>00:28:08</td>\n",
       "    </tr>\n",
       "    <tr>\n",
       "      <th>110671</th>\n",
       "      <td>274</td>\n",
       "      <td>473.0</td>\n",
       "      <td>Willow St at Blewett Ave</td>\n",
       "      <td>415.0</td>\n",
       "      <td>Delmas Ave at Virginia St</td>\n",
       "      <td>885034</td>\n",
       "      <td>Subscriber</td>\n",
       "      <td>app</td>\n",
       "      <td>2020-01-20</td>\n",
       "      <td>19</td>\n",
       "      <td>2020-01-20</td>\n",
       "      <td>19</td>\n",
       "      <td>00:04:34</td>\n",
       "    </tr>\n",
       "  </tbody>\n",
       "</table>\n",
       "</div>"
      ],
      "text/plain": [
       "        duration_sec start_station_id        start_station_name  \\\n",
       "110669          1688            473.0  Willow St at Blewett Ave   \n",
       "110671           274            473.0  Willow St at Blewett Ave   \n",
       "\n",
       "       end_station_id           end_station_name bike_id   user_type  \\\n",
       "110669          425.0      Bird Ave at Willow St  605133  Subscriber   \n",
       "110671          415.0  Delmas Ave at Virginia St  885034  Subscriber   \n",
       "\n",
       "       rental_access_method start_date  start_time_hour   end_date  \\\n",
       "110669                  app 2020-01-19               11 2020-01-19   \n",
       "110671                  app 2020-01-20               19 2020-01-20   \n",
       "\n",
       "        end_time_hour duration_time  \n",
       "110669             12      00:28:08  \n",
       "110671             19      00:04:34  "
      ]
     },
     "execution_count": 23,
     "metadata": {},
     "output_type": "execute_result"
    }
   ],
   "source": [
    "#change name\n",
    "#BWdata_clean.rename(columns={'duration_sec': 'duration_time'}, inplace=True)\n",
    "#test\n",
    "BWdata_clean.head(2)"
   ]
  },
  {
   "cell_type": "code",
   "execution_count": 24,
   "metadata": {},
   "outputs": [],
   "source": [
    "BWdata_clean['duration_time'] = pd.to_timedelta(BWdata_clean['duration_time'], unit='s')\n"
   ]
  },
  {
   "cell_type": "code",
   "execution_count": 25,
   "metadata": {},
   "outputs": [
    {
     "name": "stdout",
     "output_type": "stream",
     "text": [
      "<class 'pandas.core.frame.DataFrame'>\n",
      "Int64Index: 58300 entries, 110669 to 174729\n",
      "Data columns (total 13 columns):\n",
      " #   Column                Non-Null Count  Dtype          \n",
      "---  ------                --------------  -----          \n",
      " 0   duration_sec          58300 non-null  int64          \n",
      " 1   start_station_id      58300 non-null  object         \n",
      " 2   start_station_name    58300 non-null  object         \n",
      " 3   end_station_id        58300 non-null  object         \n",
      " 4   end_station_name      58300 non-null  object         \n",
      " 5   bike_id               58300 non-null  object         \n",
      " 6   user_type             58300 non-null  object         \n",
      " 7   rental_access_method  58300 non-null  object         \n",
      " 8   start_date            58300 non-null  datetime64[ns] \n",
      " 9   start_time_hour       58300 non-null  int64          \n",
      " 10  end_date              58300 non-null  datetime64[ns] \n",
      " 11  end_time_hour         58300 non-null  int64          \n",
      " 12  duration_time         58300 non-null  timedelta64[ns]\n",
      "dtypes: datetime64[ns](2), int64(3), object(7), timedelta64[ns](1)\n",
      "memory usage: 6.2+ MB\n"
     ]
    }
   ],
   "source": [
    "BWdata_clean.info()"
   ]
  },
  {
   "cell_type": "markdown",
   "metadata": {},
   "source": [
    "### Creat week day and month column"
   ]
  },
  {
   "cell_type": "code",
   "execution_count": 26,
   "metadata": {},
   "outputs": [],
   "source": [
    "#creat 2 columns \n",
    "BWdata_clean['end_day'] = BWdata_clean['end_date'].dt.day_name()\n",
    "BWdata_clean['start_day'] = BWdata_clean['start_date'].dt.day_name()"
   ]
  },
  {
   "cell_type": "code",
   "execution_count": 27,
   "metadata": {},
   "outputs": [],
   "source": [
    "BWdata_clean = BWdata_clean[['bike_id', 'user_type','rental_access_method','duration_sec','duration_time','start_date','end_date','start_time_hour','end_time_hour','start_day','end_day','start_station_id','start_station_name','end_station_id','end_station_name']]"
   ]
  },
  {
   "cell_type": "code",
   "execution_count": 28,
   "metadata": {
    "scrolled": true
   },
   "outputs": [
    {
     "data": {
      "text/html": [
       "<div>\n",
       "<style scoped>\n",
       "    .dataframe tbody tr th:only-of-type {\n",
       "        vertical-align: middle;\n",
       "    }\n",
       "\n",
       "    .dataframe tbody tr th {\n",
       "        vertical-align: top;\n",
       "    }\n",
       "\n",
       "    .dataframe thead th {\n",
       "        text-align: right;\n",
       "    }\n",
       "</style>\n",
       "<table border=\"1\" class=\"dataframe\">\n",
       "  <thead>\n",
       "    <tr style=\"text-align: right;\">\n",
       "      <th></th>\n",
       "      <th>bike_id</th>\n",
       "      <th>user_type</th>\n",
       "      <th>rental_access_method</th>\n",
       "      <th>duration_sec</th>\n",
       "      <th>duration_time</th>\n",
       "      <th>start_date</th>\n",
       "      <th>end_date</th>\n",
       "      <th>start_time_hour</th>\n",
       "      <th>end_time_hour</th>\n",
       "      <th>start_day</th>\n",
       "      <th>end_day</th>\n",
       "      <th>start_station_id</th>\n",
       "      <th>start_station_name</th>\n",
       "      <th>end_station_id</th>\n",
       "      <th>end_station_name</th>\n",
       "    </tr>\n",
       "  </thead>\n",
       "  <tbody>\n",
       "    <tr>\n",
       "      <th>110669</th>\n",
       "      <td>605133</td>\n",
       "      <td>Subscriber</td>\n",
       "      <td>app</td>\n",
       "      <td>1688</td>\n",
       "      <td>00:28:08</td>\n",
       "      <td>2020-01-19</td>\n",
       "      <td>2020-01-19</td>\n",
       "      <td>11</td>\n",
       "      <td>12</td>\n",
       "      <td>Sunday</td>\n",
       "      <td>Sunday</td>\n",
       "      <td>473.0</td>\n",
       "      <td>Willow St at Blewett Ave</td>\n",
       "      <td>425.0</td>\n",
       "      <td>Bird Ave at Willow St</td>\n",
       "    </tr>\n",
       "    <tr>\n",
       "      <th>110671</th>\n",
       "      <td>885034</td>\n",
       "      <td>Subscriber</td>\n",
       "      <td>app</td>\n",
       "      <td>274</td>\n",
       "      <td>00:04:34</td>\n",
       "      <td>2020-01-20</td>\n",
       "      <td>2020-01-20</td>\n",
       "      <td>19</td>\n",
       "      <td>19</td>\n",
       "      <td>Monday</td>\n",
       "      <td>Monday</td>\n",
       "      <td>473.0</td>\n",
       "      <td>Willow St at Blewett Ave</td>\n",
       "      <td>415.0</td>\n",
       "      <td>Delmas Ave at Virginia St</td>\n",
       "    </tr>\n",
       "    <tr>\n",
       "      <th>110674</th>\n",
       "      <td>533517</td>\n",
       "      <td>Subscriber</td>\n",
       "      <td>app</td>\n",
       "      <td>1671</td>\n",
       "      <td>00:27:51</td>\n",
       "      <td>2020-01-19</td>\n",
       "      <td>2020-01-19</td>\n",
       "      <td>11</td>\n",
       "      <td>12</td>\n",
       "      <td>Sunday</td>\n",
       "      <td>Sunday</td>\n",
       "      <td>473.0</td>\n",
       "      <td>Willow St at Blewett Ave</td>\n",
       "      <td>425.0</td>\n",
       "      <td>Bird Ave at Willow St</td>\n",
       "    </tr>\n",
       "    <tr>\n",
       "      <th>110675</th>\n",
       "      <td>885034</td>\n",
       "      <td>Subscriber</td>\n",
       "      <td>app</td>\n",
       "      <td>283</td>\n",
       "      <td>00:04:43</td>\n",
       "      <td>2020-01-18</td>\n",
       "      <td>2020-01-18</td>\n",
       "      <td>19</td>\n",
       "      <td>20</td>\n",
       "      <td>Saturday</td>\n",
       "      <td>Saturday</td>\n",
       "      <td>473.0</td>\n",
       "      <td>Willow St at Blewett Ave</td>\n",
       "      <td>415.0</td>\n",
       "      <td>Delmas Ave at Virginia St</td>\n",
       "    </tr>\n",
       "    <tr>\n",
       "      <th>110680</th>\n",
       "      <td>342421</td>\n",
       "      <td>Subscriber</td>\n",
       "      <td>app</td>\n",
       "      <td>1004</td>\n",
       "      <td>00:16:44</td>\n",
       "      <td>2020-01-19</td>\n",
       "      <td>2020-01-19</td>\n",
       "      <td>15</td>\n",
       "      <td>15</td>\n",
       "      <td>Sunday</td>\n",
       "      <td>Sunday</td>\n",
       "      <td>473.0</td>\n",
       "      <td>Willow St at Blewett Ave</td>\n",
       "      <td>443.0</td>\n",
       "      <td>3rd St at Keyes St</td>\n",
       "    </tr>\n",
       "  </tbody>\n",
       "</table>\n",
       "</div>"
      ],
      "text/plain": [
       "       bike_id   user_type rental_access_method  duration_sec duration_time  \\\n",
       "110669  605133  Subscriber                  app          1688      00:28:08   \n",
       "110671  885034  Subscriber                  app           274      00:04:34   \n",
       "110674  533517  Subscriber                  app          1671      00:27:51   \n",
       "110675  885034  Subscriber                  app           283      00:04:43   \n",
       "110680  342421  Subscriber                  app          1004      00:16:44   \n",
       "\n",
       "       start_date   end_date  start_time_hour  end_time_hour start_day  \\\n",
       "110669 2020-01-19 2020-01-19               11             12    Sunday   \n",
       "110671 2020-01-20 2020-01-20               19             19    Monday   \n",
       "110674 2020-01-19 2020-01-19               11             12    Sunday   \n",
       "110675 2020-01-18 2020-01-18               19             20  Saturday   \n",
       "110680 2020-01-19 2020-01-19               15             15    Sunday   \n",
       "\n",
       "         end_day start_station_id        start_station_name end_station_id  \\\n",
       "110669    Sunday            473.0  Willow St at Blewett Ave          425.0   \n",
       "110671    Monday            473.0  Willow St at Blewett Ave          415.0   \n",
       "110674    Sunday            473.0  Willow St at Blewett Ave          425.0   \n",
       "110675  Saturday            473.0  Willow St at Blewett Ave          415.0   \n",
       "110680    Sunday            473.0  Willow St at Blewett Ave          443.0   \n",
       "\n",
       "                 end_station_name  \n",
       "110669      Bird Ave at Willow St  \n",
       "110671  Delmas Ave at Virginia St  \n",
       "110674      Bird Ave at Willow St  \n",
       "110675  Delmas Ave at Virginia St  \n",
       "110680         3rd St at Keyes St  "
      ]
     },
     "execution_count": 28,
     "metadata": {},
     "output_type": "execute_result"
    }
   ],
   "source": [
    "#test\n",
    "BWdata_clean.head()"
   ]
  },
  {
   "cell_type": "code",
   "execution_count": 29,
   "metadata": {},
   "outputs": [],
   "source": [
    "#CREAT MONTH COLUMN\n",
    "BWdata_clean['month'] = pd.DatetimeIndex(BWdata_clean['start_date']).month"
   ]
  },
  {
   "cell_type": "code",
   "execution_count": 30,
   "metadata": {},
   "outputs": [],
   "source": [
    "#convert month from int to string\n",
    "import calendar\n",
    "BWdata_clean['month'] = BWdata_clean['month'].apply(lambda x: calendar.month_abbr[x])"
   ]
  },
  {
   "cell_type": "code",
   "execution_count": 31,
   "metadata": {
    "scrolled": false
   },
   "outputs": [
    {
     "data": {
      "text/html": [
       "<div>\n",
       "<style scoped>\n",
       "    .dataframe tbody tr th:only-of-type {\n",
       "        vertical-align: middle;\n",
       "    }\n",
       "\n",
       "    .dataframe tbody tr th {\n",
       "        vertical-align: top;\n",
       "    }\n",
       "\n",
       "    .dataframe thead th {\n",
       "        text-align: right;\n",
       "    }\n",
       "</style>\n",
       "<table border=\"1\" class=\"dataframe\">\n",
       "  <thead>\n",
       "    <tr style=\"text-align: right;\">\n",
       "      <th></th>\n",
       "      <th>bike_id</th>\n",
       "      <th>user_type</th>\n",
       "      <th>rental_access_method</th>\n",
       "      <th>duration_sec</th>\n",
       "      <th>duration_time</th>\n",
       "      <th>start_date</th>\n",
       "      <th>end_date</th>\n",
       "      <th>start_time_hour</th>\n",
       "      <th>end_time_hour</th>\n",
       "      <th>start_day</th>\n",
       "      <th>end_day</th>\n",
       "      <th>start_station_id</th>\n",
       "      <th>start_station_name</th>\n",
       "      <th>end_station_id</th>\n",
       "      <th>end_station_name</th>\n",
       "      <th>month</th>\n",
       "    </tr>\n",
       "  </thead>\n",
       "  <tbody>\n",
       "    <tr>\n",
       "      <th>110669</th>\n",
       "      <td>605133</td>\n",
       "      <td>Subscriber</td>\n",
       "      <td>app</td>\n",
       "      <td>1688</td>\n",
       "      <td>00:28:08</td>\n",
       "      <td>2020-01-19</td>\n",
       "      <td>2020-01-19</td>\n",
       "      <td>11</td>\n",
       "      <td>12</td>\n",
       "      <td>Sunday</td>\n",
       "      <td>Sunday</td>\n",
       "      <td>473.0</td>\n",
       "      <td>Willow St at Blewett Ave</td>\n",
       "      <td>425.0</td>\n",
       "      <td>Bird Ave at Willow St</td>\n",
       "      <td>Jan</td>\n",
       "    </tr>\n",
       "    <tr>\n",
       "      <th>110671</th>\n",
       "      <td>885034</td>\n",
       "      <td>Subscriber</td>\n",
       "      <td>app</td>\n",
       "      <td>274</td>\n",
       "      <td>00:04:34</td>\n",
       "      <td>2020-01-20</td>\n",
       "      <td>2020-01-20</td>\n",
       "      <td>19</td>\n",
       "      <td>19</td>\n",
       "      <td>Monday</td>\n",
       "      <td>Monday</td>\n",
       "      <td>473.0</td>\n",
       "      <td>Willow St at Blewett Ave</td>\n",
       "      <td>415.0</td>\n",
       "      <td>Delmas Ave at Virginia St</td>\n",
       "      <td>Jan</td>\n",
       "    </tr>\n",
       "    <tr>\n",
       "      <th>110674</th>\n",
       "      <td>533517</td>\n",
       "      <td>Subscriber</td>\n",
       "      <td>app</td>\n",
       "      <td>1671</td>\n",
       "      <td>00:27:51</td>\n",
       "      <td>2020-01-19</td>\n",
       "      <td>2020-01-19</td>\n",
       "      <td>11</td>\n",
       "      <td>12</td>\n",
       "      <td>Sunday</td>\n",
       "      <td>Sunday</td>\n",
       "      <td>473.0</td>\n",
       "      <td>Willow St at Blewett Ave</td>\n",
       "      <td>425.0</td>\n",
       "      <td>Bird Ave at Willow St</td>\n",
       "      <td>Jan</td>\n",
       "    </tr>\n",
       "    <tr>\n",
       "      <th>110675</th>\n",
       "      <td>885034</td>\n",
       "      <td>Subscriber</td>\n",
       "      <td>app</td>\n",
       "      <td>283</td>\n",
       "      <td>00:04:43</td>\n",
       "      <td>2020-01-18</td>\n",
       "      <td>2020-01-18</td>\n",
       "      <td>19</td>\n",
       "      <td>20</td>\n",
       "      <td>Saturday</td>\n",
       "      <td>Saturday</td>\n",
       "      <td>473.0</td>\n",
       "      <td>Willow St at Blewett Ave</td>\n",
       "      <td>415.0</td>\n",
       "      <td>Delmas Ave at Virginia St</td>\n",
       "      <td>Jan</td>\n",
       "    </tr>\n",
       "    <tr>\n",
       "      <th>110680</th>\n",
       "      <td>342421</td>\n",
       "      <td>Subscriber</td>\n",
       "      <td>app</td>\n",
       "      <td>1004</td>\n",
       "      <td>00:16:44</td>\n",
       "      <td>2020-01-19</td>\n",
       "      <td>2020-01-19</td>\n",
       "      <td>15</td>\n",
       "      <td>15</td>\n",
       "      <td>Sunday</td>\n",
       "      <td>Sunday</td>\n",
       "      <td>473.0</td>\n",
       "      <td>Willow St at Blewett Ave</td>\n",
       "      <td>443.0</td>\n",
       "      <td>3rd St at Keyes St</td>\n",
       "      <td>Jan</td>\n",
       "    </tr>\n",
       "  </tbody>\n",
       "</table>\n",
       "</div>"
      ],
      "text/plain": [
       "       bike_id   user_type rental_access_method  duration_sec duration_time  \\\n",
       "110669  605133  Subscriber                  app          1688      00:28:08   \n",
       "110671  885034  Subscriber                  app           274      00:04:34   \n",
       "110674  533517  Subscriber                  app          1671      00:27:51   \n",
       "110675  885034  Subscriber                  app           283      00:04:43   \n",
       "110680  342421  Subscriber                  app          1004      00:16:44   \n",
       "\n",
       "       start_date   end_date  start_time_hour  end_time_hour start_day  \\\n",
       "110669 2020-01-19 2020-01-19               11             12    Sunday   \n",
       "110671 2020-01-20 2020-01-20               19             19    Monday   \n",
       "110674 2020-01-19 2020-01-19               11             12    Sunday   \n",
       "110675 2020-01-18 2020-01-18               19             20  Saturday   \n",
       "110680 2020-01-19 2020-01-19               15             15    Sunday   \n",
       "\n",
       "         end_day start_station_id        start_station_name end_station_id  \\\n",
       "110669    Sunday            473.0  Willow St at Blewett Ave          425.0   \n",
       "110671    Monday            473.0  Willow St at Blewett Ave          415.0   \n",
       "110674    Sunday            473.0  Willow St at Blewett Ave          425.0   \n",
       "110675  Saturday            473.0  Willow St at Blewett Ave          415.0   \n",
       "110680    Sunday            473.0  Willow St at Blewett Ave          443.0   \n",
       "\n",
       "                 end_station_name month  \n",
       "110669      Bird Ave at Willow St   Jan  \n",
       "110671  Delmas Ave at Virginia St   Jan  \n",
       "110674      Bird Ave at Willow St   Jan  \n",
       "110675  Delmas Ave at Virginia St   Jan  \n",
       "110680         3rd St at Keyes St   Jan  "
      ]
     },
     "execution_count": 31,
     "metadata": {},
     "output_type": "execute_result"
    }
   ],
   "source": [
    "#test\n",
    "BWdata_clean.head()"
   ]
  },
  {
   "cell_type": "code",
   "execution_count": 33,
   "metadata": {
    "scrolled": true
   },
   "outputs": [
    {
     "name": "stdout",
     "output_type": "stream",
     "text": [
      "       bike_id   user_type rental_access_method  duration_sec duration_time  \\\n",
      "65471   380635    Customer                  app           374      00:06:14   \n",
      "66898   757318  Subscriber              clipper           584      00:09:44   \n",
      "67610   434570  Subscriber              clipper           641      00:10:41   \n",
      "67641   987679  Subscriber                  app           645      00:10:45   \n",
      "69649   667173  Subscriber              clipper           107      00:01:47   \n",
      "...        ...         ...                  ...           ...           ...   \n",
      "173908  614283  Subscriber                  app           350      00:05:50   \n",
      "173980  912413  Subscriber                  app           422      00:07:02   \n",
      "174352  121622  Subscriber                  app           241      00:04:01   \n",
      "174370  675764  Subscriber                  app          1363      00:22:43   \n",
      "174641  255850  Subscriber                  app           240      00:04:00   \n",
      "\n",
      "       start_date   end_date  start_time_hour  end_time_hour  start_day  \\\n",
      "65471  2020-04-01 2020-04-01               15             15  Wednesday   \n",
      "66898  2020-04-01 2020-04-01               10             10  Wednesday   \n",
      "67610  2020-04-01 2020-04-01                9              9  Wednesday   \n",
      "67641  2020-04-01 2020-04-01                7              7  Wednesday   \n",
      "69649  2020-04-01 2020-04-01               14             14  Wednesday   \n",
      "...           ...        ...              ...            ...        ...   \n",
      "173908 2020-04-01 2020-04-01                9              9  Wednesday   \n",
      "173980 2020-04-01 2020-04-01                9              9  Wednesday   \n",
      "174352 2020-04-01 2020-04-01               10             10  Wednesday   \n",
      "174370 2020-04-01 2020-04-01               17             17  Wednesday   \n",
      "174641 2020-04-01 2020-04-01               15             15  Wednesday   \n",
      "\n",
      "          end_day start_station_id             start_station_name  \\\n",
      "65471   Wednesday            472.0       Columbia Ave at Bird Ave   \n",
      "66898   Wednesday            294.0        Pierce Ave at Market St   \n",
      "67610   Wednesday            312.0       San Jose Diridon Station   \n",
      "67641   Wednesday            312.0       San Jose Diridon Station   \n",
      "69649   Wednesday            295.0          William St at 10th St   \n",
      "...           ...              ...                            ...   \n",
      "173908  Wednesday            400.0  Buchanan St at North Point St   \n",
      "173980  Wednesday            400.0  Buchanan St at North Point St   \n",
      "174352  Wednesday            462.0     Cruise Terminal at Pier 27   \n",
      "174370  Wednesday            462.0     Cruise Terminal at Pier 27   \n",
      "174641  Wednesday              6.0  The Embarcadero at Sansome St   \n",
      "\n",
      "       end_station_id                                   end_station_name month  \n",
      "65471           472.0                           Columbia Ave at Bird Ave   Apr  \n",
      "66898           294.0                            Pierce Ave at Market St   Apr  \n",
      "67610           317.0                          San Salvador St at 9th St   Apr  \n",
      "67641           288.0                               Mission St at 1st St   Apr  \n",
      "69649           317.0                          San Salvador St at 9th St   Apr  \n",
      "...               ...                                                ...   ...  \n",
      "173908          424.0                         Greenwich St at Webster St   Apr  \n",
      "173980          441.0                        Chestnut St at Van Ness Ave   Apr  \n",
      "174352           15.0  San Francisco Ferry Building (Harry Bridges Pl...   Apr  \n",
      "174370           74.0                              Laguna St at Hayes St   Apr  \n",
      "174641           14.0                              Clay St at Battery St   Apr  \n",
      "\n",
      "[457 rows x 16 columns]\n"
     ]
    }
   ],
   "source": [
    "# there is unwanted rows where the month is april , i will remove them\n",
    "print (BWdata_clean[BWdata_clean[\"month\"] == 'Apr'])"
   ]
  },
  {
   "cell_type": "code",
   "execution_count": 34,
   "metadata": {},
   "outputs": [],
   "source": [
    "BWdata_clean.drop(BWdata_clean[BWdata_clean.month == 'Apr'].index, inplace=True)"
   ]
  },
  {
   "cell_type": "markdown",
   "metadata": {},
   "source": [
    "## Univariate Exploration\n",
    "### User Type\n",
    "\n",
    "#### who is the most used of ford GoBike system (Subscriber vs Customers)"
   ]
  },
  {
   "cell_type": "code",
   "execution_count": 35,
   "metadata": {},
   "outputs": [
    {
     "data": {
      "text/plain": [
       "<matplotlib.axes._subplots.AxesSubplot at 0x26e9844a148>"
      ]
     },
     "execution_count": 35,
     "metadata": {},
     "output_type": "execute_result"
    },
    {
     "data": {
      "image/png": "[encoded data removed]",
      "text/plain": [
       "<Figure size 720x432 with 1 Axes>"
      ]
     },
     "metadata": {},
     "output_type": "display_data"
    }
   ],
   "source": [
    "plt.figure(figsize=(10,6))\n",
    "BWdata_clean.user_type.value_counts().plot(kind='pie',autopct='%1.1f%%',startangle=80 , colors = ['#c4dbe7', '#d3ae88'])"
   ]
  },
  {
   "cell_type": "markdown",
   "metadata": {},
   "source": [
    "> it semes there is a clear deiffrence between Subscriber and Customers in their number\n",
    "Subscribers are more than customers by 92%."
   ]
  },
  {
   "cell_type": "markdown",
   "metadata": {},
   "source": [
    "### Rental Access Method"
   ]
  },
  {
   "cell_type": "markdown",
   "metadata": {},
   "source": [
    "#### what is the most used method (App vs Clipper)"
   ]
  },
  {
   "cell_type": "code",
   "execution_count": 36,
   "metadata": {},
   "outputs": [],
   "source": [
    "def without_hue(plot, feature):\n",
    "    total = len(feature)\n",
    "    for p in ax.patches:\n",
    "        percentage = '{:.1f}%'.format(100 * p.get_height()/total)\n",
    "        x = p.get_x() + p.get_width() / 2 - 0.05\n",
    "        y = p.get_y() + p.get_height()\n",
    "        ax.annotate(percentage, (x, y), size = 12)\n",
    "    plt.show()"
   ]
  },
  {
   "cell_type": "code",
   "execution_count": 37,
   "metadata": {},
   "outputs": [
    {
     "data": {
      "image/png": "[encoded data removed]",
      "text/plain": [
       "<Figure size 504x360 with 1 Axes>"
      ]
     },
     "metadata": {
      "needs_background": "light"
     },
     "output_type": "display_data"
    }
   ],
   "source": [
    "plt.figure(figsize=(7,5))\n",
    "ax=sb.countplot('rental_access_method',data=BWdata_clean,palette = \"RdBu_r\")\n",
    "plt.xticks(size=12)\n",
    "plt.xlabel('Rental Access Method', size = 12)\n",
    "plt.yticks(size=12)\n",
    "plt.ylabel('Frequency', size = 12)\n",
    "without_hue( ax ,BWdata_clean.rental_access_method)"
   ]
  },
  {
   "cell_type": "markdown",
   "metadata": {},
   "source": [
    "> Few users are using clipper they are only 5%  while 95% of users using app as rental access method."
   ]
  },
  {
   "cell_type": "markdown",
   "metadata": {},
   "source": [
    "### Start station and End Station name\n",
    "#### What is the Top 5 in each"
   ]
  },
  {
   "cell_type": "code",
   "execution_count": 38,
   "metadata": {},
   "outputs": [
    {
     "data": {
      "text/plain": [
       "Berry St at 4th St                                    1409\n",
       "San Francisco Caltrain (Townsend St at 4th St)        1284\n",
       "Market St at 10th St                                  1250\n",
       "Howard St at Beale St                                 1103\n",
       "San Francisco Ferry Building (Harry Bridges Plaza)    1060\n",
       "                                                      ... \n",
       "Egbert Ave at Jennings St                                2\n",
       "Sonora Ave at 1st St                                     2\n",
       "Columbia Ave at Bird Ave                                 1\n",
       "Evans Ave at Mendell St                                  1\n",
       "Locust St at Grant St                                    1\n",
       "Name: start_station_name, Length: 309, dtype: int64"
      ]
     },
     "execution_count": 38,
     "metadata": {},
     "output_type": "execute_result"
    }
   ],
   "source": [
    "BWdata_clean.start_station_name.value_counts()"
   ]
  },
  {
   "cell_type": "code",
   "execution_count": 39,
   "metadata": {
    "scrolled": false
   },
   "outputs": [
    {
     "data": {
      "text/plain": [
       "Berry St at 4th St                                    1409\n",
       "San Francisco Caltrain (Townsend St at 4th St)        1284\n",
       "Market St at 10th St                                  1250\n",
       "Howard St at Beale St                                 1103\n",
       "San Francisco Ferry Building (Harry Bridges Plaza)    1060\n",
       "Name: start_station_name, dtype: int64"
      ]
     },
     "execution_count": 39,
     "metadata": {},
     "output_type": "execute_result"
    }
   ],
   "source": [
    "top5_start_stations = BWdata_clean['start_station_name'].value_counts()[:5]\n",
    "top5_start_stations"
   ]
  },
  {
   "cell_type": "code",
   "execution_count": 40,
   "metadata": {
    "scrolled": false
   },
   "outputs": [
    {
     "data": {
      "text/plain": [
       "Text(0.5, 0, 'Frequency')"
      ]
     },
     "execution_count": 40,
     "metadata": {},
     "output_type": "execute_result"
    },
    {
     "data": {
      "image/png": "[encoded data removed]",
      "text/plain": [
       "<Figure size 720x576 with 1 Axes>"
      ]
     },
     "metadata": {
      "needs_background": "light"
     },
     "output_type": "display_data"
    }
   ],
   "source": [
    "BWdata_clean.start_station_name.value_counts()[0:5].plot(kind='barh', figsize=(10,8), title='Famouse start station names',color=['#5fb49c', '#98dfaf', '#deefb7', '#d3ae88', '#d27a5d']).set_xlabel(\"Frequency\")\n"
   ]
  },
  {
   "cell_type": "markdown",
   "metadata": {},
   "source": [
    "> we can see \"Berry St at 4th St\" taken the 1st as famous start station "
   ]
  },
  {
   "cell_type": "code",
   "execution_count": 41,
   "metadata": {},
   "outputs": [
    {
     "data": {
      "text/plain": [
       "San Francisco Caltrain (Townsend St at 4th St)        1947\n",
       "Berry St at 4th St                                    1344\n",
       "Market St at 10th St                                  1165\n",
       "San Francisco Ferry Building (Harry Bridges Plaza)    1147\n",
       "Montgomery St BART Station (Market St at 2nd St)      1060\n",
       "                                                      ... \n",
       "Locust St at Grant St                                    3\n",
       "1st St at Younger Ave                                    2\n",
       "23rd St at Taylor St                                     2\n",
       "DeFremery Park                                           1\n",
       "7th St at Empire St                                      1\n",
       "Name: end_station_name, Length: 314, dtype: int64"
      ]
     },
     "execution_count": 41,
     "metadata": {},
     "output_type": "execute_result"
    }
   ],
   "source": [
    "BWdata_clean.end_station_name.value_counts()"
   ]
  },
  {
   "cell_type": "code",
   "execution_count": 42,
   "metadata": {
    "scrolled": false
   },
   "outputs": [
    {
     "data": {
      "text/plain": [
       "San Francisco Caltrain (Townsend St at 4th St)        1947\n",
       "Berry St at 4th St                                    1344\n",
       "Market St at 10th St                                  1165\n",
       "San Francisco Ferry Building (Harry Bridges Plaza)    1147\n",
       "Montgomery St BART Station (Market St at 2nd St)      1060\n",
       "Name: end_station_name, dtype: int64"
      ]
     },
     "execution_count": 42,
     "metadata": {},
     "output_type": "execute_result"
    }
   ],
   "source": [
    "top5_end_stations = BWdata_clean['end_station_name'].value_counts()[:5]\n",
    "top5_end_stations"
   ]
  },
  {
   "cell_type": "code",
   "execution_count": 43,
   "metadata": {},
   "outputs": [
    {
     "data": {
      "text/plain": [
       "Text(0.5, 0, 'Frequency')"
      ]
     },
     "execution_count": 43,
     "metadata": {},
     "output_type": "execute_result"
    },
    {
     "data": {
      "image/png": "[encoded data removed]",
      "text/plain": [
       "<Figure size 720x576 with 1 Axes>"
      ]
     },
     "metadata": {
      "needs_background": "light"
     },
     "output_type": "display_data"
    }
   ],
   "source": [
    "BWdata_clean.end_station_name.value_counts()[0:5].plot(kind='barh', figsize=(10,8), title='Famouse End station names',color=['#5fb49c', '#98dfaf', '#deefb7', '#d3ae88', '#d27a5d']).set_xlabel(\"Frequency\")\n"
   ]
  },
  {
   "cell_type": "markdown",
   "metadata": {},
   "source": [
    ">San Francisco Caltrain (Townsend St at 4th St) takes 1st as famouse end station"
   ]
  },
  {
   "cell_type": "markdown",
   "metadata": {},
   "source": [
    "### Duration Time"
   ]
  },
  {
   "cell_type": "code",
   "execution_count": 44,
   "metadata": {
    "scrolled": true
   },
   "outputs": [
    {
     "data": {
      "text/plain": [
       "00:06:02    95\n",
       "00:06:52    93\n",
       "00:07:03    93\n",
       "00:06:30    91\n",
       "00:06:07    90\n",
       "            ..\n",
       "00:30:19     1\n",
       "01:19:40     1\n",
       "00:38:51     1\n",
       "01:53:50     1\n",
       "01:10:43     1\n",
       "Name: duration_time, Length: 3571, dtype: int64"
      ]
     },
     "execution_count": 44,
     "metadata": {},
     "output_type": "execute_result"
    }
   ],
   "source": [
    "BWdata_clean.duration_time.value_counts()"
   ]
  },
  {
   "cell_type": "code",
   "execution_count": 45,
   "metadata": {},
   "outputs": [
    {
     "data": {
      "text/plain": [
       "Timedelta('0 days 08:11:46')"
      ]
     },
     "execution_count": 45,
     "metadata": {},
     "output_type": "execute_result"
    }
   ],
   "source": [
    "BWdata_clean['duration_time'].max()"
   ]
  },
  {
   "cell_type": "code",
   "execution_count": 52,
   "metadata": {
    "scrolled": false
   },
   "outputs": [
    {
     "data": {
      "text/plain": [
       "Timedelta('0 days 00:01:00')"
      ]
     },
     "execution_count": 52,
     "metadata": {},
     "output_type": "execute_result"
    }
   ],
   "source": [
    "BWdata_clean['duration_time'].min()"
   ]
  },
  {
   "cell_type": "code",
   "execution_count": 46,
   "metadata": {
    "scrolled": true
   },
   "outputs": [
    {
     "data": {
      "text/plain": [
       "<matplotlib.axes._subplots.AxesSubplot at 0x26e986d3308>"
      ]
     },
     "execution_count": 46,
     "metadata": {},
     "output_type": "execute_result"
    },
    {
     "data": {
      "image/png": "[encoded data removed]",
      "text/plain": [
       "<Figure size 576x360 with 1 Axes>"
      ]
     },
     "metadata": {
      "needs_background": "light"
     },
     "output_type": "display_data"
    }
   ],
   "source": [
    "plt.figure(figsize=(8,5))\n",
    "\n",
    "BWdata_clean['duration_time'].astype('timedelta64[h]').plot.hist(title = 'Time Duration in hours')"
   ]
  },
  {
   "cell_type": "markdown",
   "metadata": {},
   "source": [
    "> Most of bikes trips duration are less than 1 hour."
   ]
  },
  {
   "cell_type": "markdown",
   "metadata": {},
   "source": [
    "### Which day user being more active "
   ]
  },
  {
   "cell_type": "code",
   "execution_count": 47,
   "metadata": {
    "scrolled": true
   },
   "outputs": [
    {
     "data": {
      "text/plain": [
       "<matplotlib.axes._subplots.AxesSubplot at 0x26e9d897bc8>"
      ]
     },
     "execution_count": 47,
     "metadata": {},
     "output_type": "execute_result"
    },
    {
     "data": {
      "image/png": "[encoded data removed]",
      "text/plain": [
       "<Figure size 504x360 with 1 Axes>"
      ]
     },
     "metadata": {
      "needs_background": "light"
     },
     "output_type": "display_data"
    }
   ],
   "source": [
    "plt.figure(figsize=(7,5))\n",
    "BWdata_clean['start_day'].value_counts().plot(kind='bar')"
   ]
  },
  {
   "cell_type": "markdown",
   "metadata": {},
   "source": [
    "> the bar shows the more users usualy active in wednesday while sunday and saturday are less users ."
   ]
  },
  {
   "cell_type": "code",
   "execution_count": 48,
   "metadata": {
    "scrolled": false
   },
   "outputs": [
    {
     "data": {
      "image/png": "[encoded data removed]",
      "text/plain": [
       "<Figure size 504x360 with 1 Axes>"
      ]
     },
     "metadata": {
      "needs_background": "light"
     },
     "output_type": "display_data"
    }
   ],
   "source": [
    "plt.figure(figsize=(7,5))\n",
    "ax=sb.countplot('month',data=BWdata_clean,palette = \"RdBu_r\")\n",
    "plt.xticks(size=12)\n",
    "plt.xlabel(' Months Distrbution', size = 12)\n",
    "plt.yticks(size=12)\n",
    "plt.ylabel('Frequency', size = 12)\n",
    "without_hue( ax ,BWdata_clean.month)"
   ]
  },
  {
   "cell_type": "markdown",
   "metadata": {},
   "source": [
    ">User are more active in march while in jan and feb user activity less than march by 27%"
   ]
  },
  {
   "cell_type": "markdown",
   "metadata": {},
   "source": [
    "### Which time users usualy start bikes trips"
   ]
  },
  {
   "cell_type": "code",
   "execution_count": 49,
   "metadata": {
    "scrolled": true
   },
   "outputs": [
    {
     "data": {
      "text/plain": [
       "<matplotlib.axes._subplots.AxesSubplot at 0x26e986d3788>"
      ]
     },
     "execution_count": 49,
     "metadata": {},
     "output_type": "execute_result"
    },
    {
     "data": {
      "image/png": "[encoded data removed]",
      "text/plain": [
       "<Figure size 504x360 with 1 Axes>"
      ]
     },
     "metadata": {
      "needs_background": "light"
     },
     "output_type": "display_data"
    }
   ],
   "source": [
    "plt.figure(figsize=(7,5))\n",
    "BWdata_clean['start_time_hour'].value_counts().plot(kind='bar')"
   ]
  },
  {
   "cell_type": "markdown",
   "metadata": {},
   "source": [
    "> most usrs usualy start bikes at 8 am \"morning\""
   ]
  },
  {
   "cell_type": "markdown",
   "metadata": {},
   "source": [
    "## Bivariate Exploration\n",
    "\n",
    "\n",
    "### Relationship between trip duration and week day ."
   ]
  },
  {
   "cell_type": "code",
   "execution_count": 50,
   "metadata": {
    "scrolled": true
   },
   "outputs": [
    {
     "data": {
      "image/png": "[encoded data removed]",
      "text/plain": [
       "<Figure size 720x360 with 1 Axes>"
      ]
     },
     "metadata": {
      "needs_background": "light"
     },
     "output_type": "display_data"
    }
   ],
   "source": [
    "plt.figure(figsize = [10, 5])\n",
    "sb.boxplot(data = BWdata_clean, x = 'start_day', y = 'duration_sec', palette = \"RdBu_r\")\n",
    "plt.ylim([-10, 3000])\n",
    "plt.title('Trip Duration and Week Day')\n",
    "plt.ylabel('Duration_sec')\n",
    "plt.show()\n"
   ]
  },
  {
   "cell_type": "markdown",
   "metadata": {},
   "source": [
    "> while the graph before this one show \" the users usualy active in wednesday while sunday and saturday are less active\" however this graph shows the trip durations are more in sunday and saturday"
   ]
  },
  {
   "cell_type": "markdown",
   "metadata": {},
   "source": [
    "### Relashionship between user type and trip duration"
   ]
  },
  {
   "cell_type": "code",
   "execution_count": 51,
   "metadata": {},
   "outputs": [
    {
     "data": {
      "image/png": "[encoded data removed]",
      "text/plain": [
       "<Figure size 720x360 with 1 Axes>"
      ]
     },
     "metadata": {
      "needs_background": "light"
     },
     "output_type": "display_data"
    }
   ],
   "source": [
    "\n",
    "plt.figure(figsize = [10, 5])\n",
    "sb.boxplot(data = BWdata_clean, x = 'user_type', y = 'duration_sec', palette = \"RdBu_r\")\n",
    "plt.ylim([-10, 3000])\n",
    "plt.title('Trip Duration and User Type')\n",
    "plt.xlabel('User Type')\n",
    "plt.ylabel('Duration_sec')\n",
    "plt.show()\n"
   ]
  },
  {
   "cell_type": "markdown",
   "metadata": {},
   "source": [
    ">An important note here is that customers are taking more trip duration than subscribers "
   ]
  },
  {
   "cell_type": "markdown",
   "metadata": {},
   "source": [
    "###  week day and month distrbution"
   ]
  },
  {
   "cell_type": "code",
   "execution_count": 60,
   "metadata": {},
   "outputs": [
    {
     "data": {
      "text/plain": [
       "<matplotlib.legend.Legend at 0x26e9df45948>"
      ]
     },
     "execution_count": 60,
     "metadata": {},
     "output_type": "execute_result"
    },
    {
     "data": {
      "image/png": "[encoded data removed]",
      "text/plain": [
       "<Figure size 720x360 with 1 Axes>"
      ]
     },
     "metadata": {
      "needs_background": "light"
     },
     "output_type": "display_data"
    }
   ],
   "source": [
    "plt.figure(figsize = [10, 5])\n",
    "cat1_order = ['Sunday', 'Monday', 'Tuesday', 'Wednesday','Thursday','Friday','Saturday']\n",
    "cat2_order = ['Jan', 'Feb', 'Mar']\n",
    "sb.countplot(data = BWdata_clean, x = 'start_day', hue = 'month',order = cat1_order, hue_order = cat2_order,palette = \"RdBu_r\")\n",
    "plt.legend()"
   ]
  },
  {
   "cell_type": "markdown",
   "metadata": {},
   "source": [
    "### Relashionship between start time and week day"
   ]
  },
  {
   "cell_type": "code",
   "execution_count": 54,
   "metadata": {},
   "outputs": [
    {
     "data": {
      "text/plain": [
       "<matplotlib.axes._subplots.AxesSubplot at 0x26e9e0dd2c8>"
      ]
     },
     "execution_count": 54,
     "metadata": {},
     "output_type": "execute_result"
    },
    {
     "data": {
      "image/png": "[encoded data removed]",
      "text/plain": [
       "<Figure size 720x360 with 1 Axes>"
      ]
     },
     "metadata": {
      "needs_background": "light"
     },
     "output_type": "display_data"
    }
   ],
   "source": [
    "plt.figure(figsize = [10, 5])\n",
    "sb.violinplot(data = BWdata_clean, x = 'start_day', y = 'start_time_hour')"
   ]
  },
  {
   "cell_type": "markdown",
   "metadata": {},
   "source": [
    "> this figure shows users usualy in sunday and saturday are more active from 8 am to 17 pm while others days they are less active from 10 am to 15 pm."
   ]
  },
  {
   "cell_type": "markdown",
   "metadata": {},
   "source": [
    "### Relashionship between start time and duration time"
   ]
  },
  {
   "cell_type": "code",
   "execution_count": 55,
   "metadata": {
    "scrolled": true
   },
   "outputs": [
    {
     "data": {
      "text/plain": [
       "<matplotlib.axes._subplots.AxesSubplot at 0x26e9e20f2c8>"
      ]
     },
     "execution_count": 55,
     "metadata": {},
     "output_type": "execute_result"
    },
    {
     "data": {
      "image/png": "[encoded data removed]",
      "text/plain": [
       "<Figure size 720x360 with 1 Axes>"
      ]
     },
     "metadata": {
      "needs_background": "light"
     },
     "output_type": "display_data"
    }
   ],
   "source": [
    "plt.figure(figsize = [10, 5])\n",
    "sb.regplot(x='start_time_hour',y='duration_sec',data=BWdata_clean, fit_reg=True) "
   ]
  },
  {
   "cell_type": "markdown",
   "metadata": {},
   "source": [
    "> the figure shows users usualy takes long trips from (7 am  to 17 pm)"
   ]
  },
  {
   "cell_type": "markdown",
   "metadata": {},
   "source": [
    "## Multivariate Exploration\n"
   ]
  },
  {
   "cell_type": "code",
   "execution_count": 56,
   "metadata": {
    "scrolled": true
   },
   "outputs": [
    {
     "data": {
      "text/plain": [
       "<seaborn.axisgrid.FacetGrid at 0x26e9e28b808>"
      ]
     },
     "execution_count": 56,
     "metadata": {},
     "output_type": "execute_result"
    },
    {
     "data": {
      "text/plain": [
       "<Figure size 720x360 with 0 Axes>"
      ]
     },
     "metadata": {},
     "output_type": "display_data"
    },
    {
     "data": {
      "image/png": "[encoded data removed]",
      "text/plain": [
       "<Figure size 665.125x576 with 1 Axes>"
      ]
     },
     "metadata": {
      "needs_background": "light"
     },
     "output_type": "display_data"
    }
   ],
   "source": [
    "plt.figure(figsize = [10, 5])\n",
    "g = sb.FacetGrid(data = BWdata_clean, hue = 'user_type', height = 8)\n",
    "g.map(plt.scatter, 'start_time_hour', 'duration_sec')\n",
    "g.add_legend()"
   ]
  },
  {
   "cell_type": "code",
   "execution_count": 74,
   "metadata": {},
   "outputs": [
    {
     "data": {
      "text/plain": [
       "<seaborn.axisgrid.FacetGrid at 0x1b827eca2c8>"
      ]
     },
     "execution_count": 74,
     "metadata": {},
     "output_type": "execute_result"
    },
    {
     "data": {
      "text/plain": [
       "<Figure size 720x360 with 0 Axes>"
      ]
     },
     "metadata": {},
     "output_type": "display_data"
    },
    {
     "data": {
      "image/png": "[encoded data removed]",
      "text/plain": [
       "<Figure size 695.625x576 with 1 Axes>"
      ]
     },
     "metadata": {
      "needs_background": "light"
     },
     "output_type": "display_data"
    }
   ],
   "source": [
    "plt.figure(figsize = [10, 5])\n",
    "g = sb.FacetGrid(data = BWdata_clean, hue = 'rental_access_method', height = 8)\n",
    "g.map(plt.scatter, 'start_time_hour', 'duration_sec')\n",
    "g.add_legend()"
   ]
  },
  {
   "cell_type": "markdown",
   "metadata": {},
   "source": [
    ">there is no diffrence in start time for both users whos using app or clipper , but users who use app take long trip time"
   ]
  },
  {
   "cell_type": "markdown",
   "metadata": {},
   "source": [
    "### User types by month"
   ]
  },
  {
   "cell_type": "code",
   "execution_count": 58,
   "metadata": {
    "scrolled": false
   },
   "outputs": [
    {
     "data": {
      "image/png": "[encoded data removed]",
      "text/plain": [
       "<Figure size 1080x576 with 1 Axes>"
      ]
     },
     "metadata": {
      "needs_background": "light"
     },
     "output_type": "display_data"
    }
   ],
   "source": [
    "plt.figure(figsize = [15, 8])\n",
    "plt.subplot(1, 2, 1)\n",
    "g = sb.countplot(data=BWdata_clean, x=\"user_type\", hue=\"month\", order=BWdata_clean.user_type.value_counts().index)\n",
    "g.set_xlabel('User Type')\n",
    "g.set_ylabel('Bike Trips')\n",
    "g.set_title('User types by month', y=1.03, fontsize=16, fontweight='semibold');"
   ]
  },
  {
   "cell_type": "code",
   "execution_count": 72,
   "metadata": {},
   "outputs": [],
   "source": [
    "### Famouse start & end station by month"
   ]
  },
  {
   "cell_type": "code",
   "execution_count": 74,
   "metadata": {
    "scrolled": false
   },
   "outputs": [
    {
     "data": {
      "text/plain": [
       "(array([0, 1, 2]), <a list of 3 Text xticklabel objects>)"
      ]
     },
     "execution_count": 74,
     "metadata": {},
     "output_type": "execute_result"
    },
    {
     "data": {
      "image/png": "[encoded data removed]",
      "text/plain": [
       "<Figure size 432x288 with 1 Axes>"
      ]
     },
     "metadata": {
      "needs_background": "light"
     },
     "output_type": "display_data"
    }
   ],
   "source": [
    "g = sb.countplot(data=BWdata_clean, x=\"start_station_name\", hue=\"month\", order=BWdata_clean.start_station_name.value_counts()[0:3].index)\n",
    "g.set_title('Famouse start station by month', y=1.03, fontsize=16, fontweight='semibold');\n",
    "plt.xticks(rotation=70)"
   ]
  },
  {
   "cell_type": "markdown",
   "metadata": {},
   "source": [
    "> in march San francisco Caltrain is the 1st famouse start staion then Market St at 10th St at last Berry St at 4th St."
   ]
  },
  {
   "cell_type": "code",
   "execution_count": 75,
   "metadata": {},
   "outputs": [
    {
     "data": {
      "text/plain": [
       "(array([0, 1, 2]), <a list of 3 Text xticklabel objects>)"
      ]
     },
     "execution_count": 75,
     "metadata": {},
     "output_type": "execute_result"
    },
    {
     "data": {
      "image/png": "[encoded data removed]",
      "text/plain": [
       "<Figure size 432x288 with 1 Axes>"
      ]
     },
     "metadata": {
      "needs_background": "light"
     },
     "output_type": "display_data"
    }
   ],
   "source": [
    "g = sb.countplot(data=BWdata_clean, x=\"end_station_name\", hue=\"month\", order=BWdata_clean.end_station_name.value_counts()[0:3].index)\n",
    "g.set_title('Famouse end station by month', y=1.03, fontsize=16, fontweight='semibold');\n",
    "plt.xticks(rotation=70)"
   ]
  },
  {
   "cell_type": "markdown",
   "metadata": {},
   "source": [
    "> While San Franciso is 1st famouse start staution in march it also 1st famouse end station in same month"
   ]
  },
  {
   "cell_type": "markdown",
   "metadata": {},
   "source": [
    "## Summary:"
   ]
  },
  {
   "cell_type": "markdown",
   "metadata": {},
   "source": [
    ">\n",
    "* Subscribers are more than customers by 92% \n",
    "* Few users are using clipper they are only 5% while 95% of users using app as rental access method.\n",
    "* Berry St at 4th St\" taken the 1st as famous start station\n",
    "* San Francisco Caltrain (Townsend St at 4th St) takes 1st as famouse end station\n",
    "* Maximum duration is:0 days 08:11:46'.\n",
    "* Minmum duration is:0 days 00:01:00.\n",
    "* Most of bikes trips duration are less than 1 hour.\n",
    "* Users usualy active in wednesday while sunday and saturday are less users. however,the users usualy active in wednesday while Sunday and saturday are less active\" however this graph shows the trip durations are more in sunday and saturday.\n",
    "\n",
    "> \n",
    "* User are more active in march while in jan and feb user activity less than march by 27%\n",
    "* Most usrs usualy start bikes at 8 am \"morning\".\n",
    "* Customers are taking more trip duration than subscribers.\n",
    "* Users usualy in sunday and saturday are more active from 8 am to 17 pm while others days they are less active from 10 am to 15 pm.\n",
    "* Users usualy takes long trips from (7 am to 17 pm)\n",
    "* There is no diffrence in start time for both users whos using app or clipper , but users who use app take long trip time\n",
    "* In march San francisco Caltrain is the 1st famouse start staion then Market St at 10th St at last Berry St at 4th St.\n",
    "* While San Franciso is 1st famouse start staution in march it also 1st famouse end station in same month"
   ]
  }
 ],
 "metadata": {
  "kernelspec": {
   "display_name": "Python 3",
   "language": "python",
   "name": "python3"
  },
  "language_info": {
   "codemirror_mode": {
    "name": "ipython",
    "version": 3
   },
   "file_extension": ".py",
   "mimetype": "text/x-python",
   "name": "python",
   "nbconvert_exporter": "python",
   "pygments_lexer": "ipython3",
   "version": "3.7.7"
  }
 },
 "nbformat": 4,
 "nbformat_minor": 2
}
